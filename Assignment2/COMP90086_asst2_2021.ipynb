{
  "nbformat": 4,
  "nbformat_minor": 5,
  "metadata": {
    "kernelspec": {
      "display_name": "Python 3",
      "language": "python",
      "name": "python3"
    },
    "language_info": {
      "codemirror_mode": {
        "name": "ipython",
        "version": 3
      },
      "file_extension": ".py",
      "mimetype": "text/x-python",
      "name": "python",
      "nbconvert_exporter": "python",
      "pygments_lexer": "ipython3",
      "version": "3.7.7"
    },
    "colab": {
      "name": "COMP90086_asst2_2021.ipynb",
      "provenance": [],
      "collapsed_sections": []
    }
  },
  "cells": [
    {
      "cell_type": "markdown",
      "metadata": {
        "id": "c31cedf7"
      },
      "source": [
        "### The University of Melbourne, School of Computing and Information Systems\n",
        "# COMP90086 Computer Vision, 2021 Semester 2\n",
        "\n",
        "## Assignment 2"
      ],
      "id": "c31cedf7"
    },
    {
      "cell_type": "markdown",
      "metadata": {
        "id": "589e6af0"
      },
      "source": [
        "**Student Name:**    `YINGPENG TAN`\n",
        "\n",
        "**Student ID:**     `739 674`"
      ],
      "id": "589e6af0"
    },
    {
      "cell_type": "markdown",
      "metadata": {
        "id": "eec16160"
      },
      "source": [
        "## This iPython notebook is a template which you should use for your Assignment 2 submission. This file should be submitted at the **Assignment 2: Code** link on the LMS.\n",
        "\n",
        "In addition to this file, you should submit a writren report explaining your results at the **Assignment 2: Report** link on the LMS. Please see the assignment specification for details on what must be included in the report for each question.\n",
        "\n",
        "*Adding proper comments to your code is MANDATORY.*"
      ],
      "id": "eec16160"
    },
    {
      "cell_type": "markdown",
      "metadata": {
        "id": "a0f541be"
      },
      "source": [
        "### 2. Classification on the CIFAR-10 subset\n",
        "\n",
        "In this problem, you will conduct classification on a subset of the CIFAR10 dataset. The dataset is generated in the following coding block (Please don't modify the following coding block)."
      ],
      "id": "a0f541be"
    },
    {
      "cell_type": "code",
      "metadata": {
        "colab": {
          "base_uri": "https://localhost:8080/"
        },
        "id": "8a2499ca",
        "outputId": "a18dc53e-4693-427d-bf28-22e007db31ba"
      },
      "source": [
        "import tensorflow as tf\n",
        "from tensorflow import keras\n",
        "from tensorflow.keras import layers\n",
        "\n",
        "import numpy as np\n",
        "import matplotlib.pyplot as plt\n",
        "\n",
        "from scipy import ndimage \n",
        "\n",
        "\n",
        "(train_images, train_labels), (test_images, test_labels) = keras.datasets.cifar10.load_data()\n",
        "\n",
        "train_images_sub=np.zeros([250,32,32,3])\n",
        "train_labels_sub=np.zeros([250,1])\n",
        "\n",
        "test_images_sub=np.zeros([200,32,32,3])\n",
        "test_labels_sub=np.zeros([200,1])\n",
        "\n",
        "for clsi in range (10):\n",
        "    idx=train_labels==clsi\n",
        "    idx=np.squeeze(idx)\n",
        "    imgs = train_images[idx,:,:,:]\n",
        "    imgs = imgs[::200,:,:,:]\n",
        "    train_images_sub[25*clsi:(clsi+1)*25,:,:,:] = imgs\n",
        "    train_labels_sub[25*clsi:(clsi+1)*25,:] = clsi\n",
        "    \n",
        "    idx=test_labels==clsi\n",
        "    idx=np.squeeze(idx)\n",
        "    imgs = test_images[idx,:,:,:]\n",
        "    imgs = imgs[::50,:,:,:]\n",
        "    test_images_sub[20*clsi:(clsi+1)*20,:,:,:]=imgs\n",
        "    test_labels_sub[20*clsi:(clsi+1)*20,:] = clsi\n",
        "    \n",
        "\n",
        "print(\"train_images shape:\", train_images_sub.shape)\n",
        "print(\"train_labels shape:\", train_labels_sub.shape)\n",
        "print(\"test_images shape:\", test_images_sub.shape)\n",
        "print(\"test_labels shape:\", test_labels_sub.shape)\n",
        "\n"
      ],
      "id": "8a2499ca",
      "execution_count": null,
      "outputs": [
        {
          "output_type": "stream",
          "name": "stdout",
          "text": [
            "Downloading data from https://www.cs.toronto.edu/~kriz/cifar-10-python.tar.gz\n",
            "170500096/170498071 [==============================] - 4s 0us/step\n",
            "170508288/170498071 [==============================] - 4s 0us/step\n",
            "train_images shape: (250, 32, 32, 3)\n",
            "train_labels shape: (250, 1)\n",
            "test_images shape: (200, 32, 32, 3)\n",
            "test_labels shape: (200, 1)\n"
          ]
        }
      ]
    },
    {
      "cell_type": "markdown",
      "metadata": {
        "id": "656ca188"
      },
      "source": [
        "1. Implement  the  CNN  shown  in  Q1  in  the  assignment specificication  and  use  it  to classify the provided dataset.  Plot the training accuracy and testing accuracy under different epochs. Please see the assignment specificication for more details of the training settings."
      ],
      "id": "656ca188"
    },
    {
      "cell_type": "code",
      "metadata": {
        "colab": {
          "base_uri": "https://localhost:8080/"
        },
        "id": "125de6c4-685c-4b01-926a-c0b7da3ed06b",
        "outputId": "aaea58ce-fc1c-40fb-a529-a758d8b41784"
      },
      "source": [
        "# Implementaton of the CNN shown in Q1 in the assignment specificication\n",
        "\n",
        "from tensorflow.keras import models\n",
        "from tensorflow.keras.models import Model\n",
        "\n",
        "# The Input Layer\n",
        "inputs = layers.Input((32, 32, 3))\n",
        "\n",
        "# Layer 1\n",
        "layer1_convolutional = layers.Conv2D(32, (5, 5), activation='relu', padding='valid')(inputs)\n",
        "\n",
        "# Layer 2, Sub 1\n",
        "layer2_sub1_convolutional = layers.Conv2D(32, (1, 1), activation='relu', padding='same')(layer1_convolutional)\n",
        "# Layer 2, Sub 2\n",
        "layer2_sub2_convolutional1 = layers.Conv2D(32, (1, 1), activation='relu', padding='same')(layer1_convolutional)\n",
        "layer2_sub2_convolutional2 = layers.Conv2D(64, (3, 3), activation='relu', padding='same')(layer2_sub2_convolutional1)\n",
        "# Layer 2, Sub 3\n",
        "layer2_sub3_maxpool = layers.MaxPool2D((3, 3), strides=(1, 1), padding='same')(layer1_convolutional)\n",
        "layer2_sub3_convolutional = layers.Conv2D(32, (1, 1), activation='relu', padding='same')(layer2_sub3_maxpool)\n",
        "# Layer 2, Concatenation by Channels\n",
        "layer2_concatenation = layers.concatenate([layer2_sub1_convolutional, layer2_sub2_convolutional2, layer2_sub3_convolutional], axis = 3)\n",
        "\n",
        "# Layer 3, Sub 1\n",
        "layer3_sub1_convolutional = layers.Conv2D(64, (1, 1), activation='relu', padding='same')(layer2_concatenation)\n",
        "# Layer 3, Sub 2\n",
        "layer3_sub2_convolutional1 = layers.Conv2D(64, (1, 1), activation='relu', padding='same')(layer2_concatenation)\n",
        "layer3_sub2_convolutional2 = layers.Conv2D(128, (3, 3), activation='relu', padding='same')(layer3_sub2_convolutional1)\n",
        "# Layer 3, Sub 3\n",
        "layer3_sub3_maxpool = layers.MaxPool2D((3, 3), strides=(1, 1), padding='same')(layer2_concatenation)\n",
        "layer3_sub3_convolutional = layers.Conv2D(64, (1, 1), activation='relu', padding='same')(layer3_sub3_maxpool)\n",
        "# Layer 3, Concatenation by Channels\n",
        "layer3_concatenation = layers.concatenate([layer3_sub1_convolutional, layer3_sub2_convolutional2, layer3_sub3_convolutional], axis = 3)\n",
        "\n",
        "# Layer 4\n",
        "layer4_maxpool = layers.MaxPool2D((2, 2), strides=(2, 2), padding='same')(layer3_concatenation)\n",
        "# Layer 4 Flattened\n",
        "layer4_flattened = layers.Flatten()(layer4_maxpool)\n",
        "\n",
        "# Layer 5 Fully Connected Layer 256 Units\n",
        "layer5_fc256 = layers.Dense(256, activation='relu')(layer4_flattened)\n",
        "\n",
        "# Layer 6 Fully Connected Layer 10 Units\n",
        "layer6_fc10 = layers.Dense(10, activation='softmax')(layer5_fc256)\n",
        "\n",
        "# Setp up the whole model\n",
        "Q1_model = Model([inputs], layer6_fc10)\n",
        "\n",
        "# Show the output shape, number of parameters of each layer\n",
        "Q1_model.summary()\n"
      ],
      "id": "125de6c4-685c-4b01-926a-c0b7da3ed06b",
      "execution_count": null,
      "outputs": [
        {
          "output_type": "stream",
          "name": "stdout",
          "text": [
            "Model: \"model\"\n",
            "__________________________________________________________________________________________________\n",
            "Layer (type)                    Output Shape         Param #     Connected to                     \n",
            "==================================================================================================\n",
            "input_1 (InputLayer)            [(None, 32, 32, 3)]  0                                            \n",
            "__________________________________________________________________________________________________\n",
            "conv2d (Conv2D)                 (None, 28, 28, 32)   2432        input_1[0][0]                    \n",
            "__________________________________________________________________________________________________\n",
            "conv2d_2 (Conv2D)               (None, 28, 28, 32)   1056        conv2d[0][0]                     \n",
            "__________________________________________________________________________________________________\n",
            "max_pooling2d (MaxPooling2D)    (None, 28, 28, 32)   0           conv2d[0][0]                     \n",
            "__________________________________________________________________________________________________\n",
            "conv2d_1 (Conv2D)               (None, 28, 28, 32)   1056        conv2d[0][0]                     \n",
            "__________________________________________________________________________________________________\n",
            "conv2d_3 (Conv2D)               (None, 28, 28, 64)   18496       conv2d_2[0][0]                   \n",
            "__________________________________________________________________________________________________\n",
            "conv2d_4 (Conv2D)               (None, 28, 28, 32)   1056        max_pooling2d[0][0]              \n",
            "__________________________________________________________________________________________________\n",
            "concatenate (Concatenate)       (None, 28, 28, 128)  0           conv2d_1[0][0]                   \n",
            "                                                                 conv2d_3[0][0]                   \n",
            "                                                                 conv2d_4[0][0]                   \n",
            "__________________________________________________________________________________________________\n",
            "conv2d_6 (Conv2D)               (None, 28, 28, 64)   8256        concatenate[0][0]                \n",
            "__________________________________________________________________________________________________\n",
            "max_pooling2d_1 (MaxPooling2D)  (None, 28, 28, 128)  0           concatenate[0][0]                \n",
            "__________________________________________________________________________________________________\n",
            "conv2d_5 (Conv2D)               (None, 28, 28, 64)   8256        concatenate[0][0]                \n",
            "__________________________________________________________________________________________________\n",
            "conv2d_7 (Conv2D)               (None, 28, 28, 128)  73856       conv2d_6[0][0]                   \n",
            "__________________________________________________________________________________________________\n",
            "conv2d_8 (Conv2D)               (None, 28, 28, 64)   8256        max_pooling2d_1[0][0]            \n",
            "__________________________________________________________________________________________________\n",
            "concatenate_1 (Concatenate)     (None, 28, 28, 256)  0           conv2d_5[0][0]                   \n",
            "                                                                 conv2d_7[0][0]                   \n",
            "                                                                 conv2d_8[0][0]                   \n",
            "__________________________________________________________________________________________________\n",
            "max_pooling2d_2 (MaxPooling2D)  (None, 14, 14, 256)  0           concatenate_1[0][0]              \n",
            "__________________________________________________________________________________________________\n",
            "flatten (Flatten)               (None, 50176)        0           max_pooling2d_2[0][0]            \n",
            "__________________________________________________________________________________________________\n",
            "dense (Dense)                   (None, 256)          12845312    flatten[0][0]                    \n",
            "__________________________________________________________________________________________________\n",
            "dense_1 (Dense)                 (None, 10)           2570        dense[0][0]                      \n",
            "==================================================================================================\n",
            "Total params: 12,970,602\n",
            "Trainable params: 12,970,602\n",
            "Non-trainable params: 0\n",
            "__________________________________________________________________________________________________\n"
          ]
        }
      ]
    },
    {
      "cell_type": "code",
      "metadata": {
        "id": "_efEfS8v72Ci"
      },
      "source": [
        "# Normalize the Traing and Testing Data to 0 to 1\n",
        "train_images_normalized = train_images_sub.astype(float) / 255\n",
        "test_images_normalized = test_images_sub.astype(float) / 255"
      ],
      "id": "_efEfS8v72Ci",
      "execution_count": null,
      "outputs": []
    },
    {
      "cell_type": "code",
      "metadata": {
        "colab": {
          "base_uri": "https://localhost:8080/"
        },
        "id": "Xs8XnSn3qFRV",
        "outputId": "5513ff69-1780-4d90-f187-a24c4dcb0c19"
      },
      "source": [
        "# Use “adam” as the optimization algorithm \n",
        "# (set learning rate to 0.001, and leave other hyperparameters of Adam fixed at the default for the library you choose to use)\n",
        "Q1_model.compile (tf.optimizers.Adam(learning_rate=0.001), loss=tf.keras.losses.SparseCategoricalCrossentropy(from_logits=False), metrics=['accuracy'])\n",
        "\n",
        "# Set batch size to 32 and epoch to 20\n",
        "Q2_1_model = Q1_model.fit(train_images_normalized, train_labels_sub, epochs=20, batch_size=32, \n",
        "                      validation_data=(test_images_normalized, test_labels_sub))"
      ],
      "id": "Xs8XnSn3qFRV",
      "execution_count": null,
      "outputs": [
        {
          "output_type": "stream",
          "name": "stdout",
          "text": [
            "Epoch 1/20\n",
            "8/8 [==============================] - 7s 798ms/step - loss: 2.8521 - accuracy: 0.1480 - val_loss: 2.3000 - val_accuracy: 0.1100\n",
            "Epoch 2/20\n",
            "8/8 [==============================] - 6s 758ms/step - loss: 2.2652 - accuracy: 0.1720 - val_loss: 2.2237 - val_accuracy: 0.2400\n",
            "Epoch 3/20\n",
            "8/8 [==============================] - 6s 758ms/step - loss: 2.1383 - accuracy: 0.2840 - val_loss: 2.1255 - val_accuracy: 0.2000\n",
            "Epoch 4/20\n",
            "8/8 [==============================] - 6s 760ms/step - loss: 1.9472 - accuracy: 0.3080 - val_loss: 2.0117 - val_accuracy: 0.2950\n",
            "Epoch 5/20\n",
            "8/8 [==============================] - 6s 765ms/step - loss: 1.7043 - accuracy: 0.4200 - val_loss: 2.0355 - val_accuracy: 0.3100\n",
            "Epoch 6/20\n",
            "8/8 [==============================] - 6s 770ms/step - loss: 1.4366 - accuracy: 0.5120 - val_loss: 2.1076 - val_accuracy: 0.2850\n",
            "Epoch 7/20\n",
            "8/8 [==============================] - 6s 771ms/step - loss: 1.1683 - accuracy: 0.6000 - val_loss: 2.2233 - val_accuracy: 0.3100\n",
            "Epoch 8/20\n",
            "8/8 [==============================] - 6s 769ms/step - loss: 0.9244 - accuracy: 0.7120 - val_loss: 2.3346 - val_accuracy: 0.3100\n",
            "Epoch 9/20\n",
            "8/8 [==============================] - 6s 770ms/step - loss: 0.6944 - accuracy: 0.7840 - val_loss: 2.4601 - val_accuracy: 0.3200\n",
            "Epoch 10/20\n",
            "8/8 [==============================] - 6s 770ms/step - loss: 0.4556 - accuracy: 0.8600 - val_loss: 3.0720 - val_accuracy: 0.3300\n",
            "Epoch 11/20\n",
            "8/8 [==============================] - 6s 776ms/step - loss: 0.2610 - accuracy: 0.9240 - val_loss: 3.4355 - val_accuracy: 0.2900\n",
            "Epoch 12/20\n",
            "8/8 [==============================] - 6s 772ms/step - loss: 0.1355 - accuracy: 0.9840 - val_loss: 4.1975 - val_accuracy: 0.3150\n",
            "Epoch 13/20\n",
            "8/8 [==============================] - 6s 774ms/step - loss: 0.0881 - accuracy: 0.9760 - val_loss: 4.6801 - val_accuracy: 0.2950\n",
            "Epoch 14/20\n",
            "8/8 [==============================] - 6s 774ms/step - loss: 0.0834 - accuracy: 0.9880 - val_loss: 4.3915 - val_accuracy: 0.3050\n",
            "Epoch 15/20\n",
            "8/8 [==============================] - 6s 777ms/step - loss: 0.0732 - accuracy: 0.9760 - val_loss: 4.9772 - val_accuracy: 0.2850\n",
            "Epoch 16/20\n",
            "8/8 [==============================] - 6s 776ms/step - loss: 0.0474 - accuracy: 0.9920 - val_loss: 4.6503 - val_accuracy: 0.3100\n",
            "Epoch 17/20\n",
            "8/8 [==============================] - 6s 777ms/step - loss: 0.0199 - accuracy: 1.0000 - val_loss: 5.2290 - val_accuracy: 0.2650\n",
            "Epoch 18/20\n",
            "8/8 [==============================] - 6s 776ms/step - loss: 0.0068 - accuracy: 1.0000 - val_loss: 5.6789 - val_accuracy: 0.2550\n",
            "Epoch 19/20\n",
            "8/8 [==============================] - 6s 776ms/step - loss: 0.0042 - accuracy: 1.0000 - val_loss: 5.9597 - val_accuracy: 0.2750\n",
            "Epoch 20/20\n",
            "8/8 [==============================] - 6s 780ms/step - loss: 0.0022 - accuracy: 1.0000 - val_loss: 6.1938 - val_accuracy: 0.2750\n"
          ]
        }
      ]
    },
    {
      "cell_type": "code",
      "metadata": {
        "colab": {
          "base_uri": "https://localhost:8080/",
          "height": 295
        },
        "id": "9RRvLgJ6zsGU",
        "outputId": "d55c81a4-9422-4bf4-db43-5aa75de413c5"
      },
      "source": [
        "# Plot the training accuracy and testing accuracy under different epochs\n",
        "\n",
        "plt.plot(Q2_1_model.history['accuracy'], label='Training Accuracy')\n",
        "plt.plot(Q2_1_model.history['val_accuracy'], label='Testing Accuracy')\n",
        "plt.ylabel('Accuracy')\n",
        "plt.xlabel('Epochs')\n",
        "plt.title('Training & Testing Accuracy under Different Epochs')\n",
        "plt.legend()\n",
        "plt.show()"
      ],
      "id": "9RRvLgJ6zsGU",
      "execution_count": null,
      "outputs": [
        {
          "output_type": "display_data",
          "data": {
            "image/png": "[encoded data removed]",
            "text/plain": [
              "<Figure size 432x288 with 1 Axes>"
            ]
          },
          "metadata": {
            "needs_background": "light"
          }
        }
      ]
    },
    {
      "cell_type": "code",
      "metadata": {
        "colab": {
          "base_uri": "https://localhost:8080/",
          "height": 295
        },
        "id": "AI2i5KtBzsMY",
        "outputId": "92d746ae-94be-4f1c-ad6c-77ccd69aa766"
      },
      "source": [
        "# Plot the training loss and testing loss under different epochs\n",
        "\n",
        "plt.plot(Q2_1_model.history['loss'], label='Training Loss')\n",
        "plt.plot(Q2_1_model.history['val_loss'], label='Testing Loss')\n",
        "plt.ylabel('Loss')\n",
        "plt.xlabel('Epochs')\n",
        "plt.title('Training & Testing Loss under Different Epochs')\n",
        "plt.legend()\n",
        "plt.show()"
      ],
      "id": "AI2i5KtBzsMY",
      "execution_count": null,
      "outputs": [
        {
          "output_type": "display_data",
          "data": {
            "image/png": "[encoded data removed]",
            "text/plain": [
              "<Figure size 432x288 with 1 Axes>"
            ]
          },
          "metadata": {
            "needs_background": "light"
          }
        }
      ]
    },
    {
      "cell_type": "markdown",
      "metadata": {
        "id": "4d8b1ae0"
      },
      "source": [
        "2. Implement the MLP model provided in Q2 in the assignment specificication and use it to classify the given dataset. Plot the training accuracy and testing accuracy under different epochs. Please see the assignment specificication for more details of the training settings."
      ],
      "id": "4d8b1ae0"
    },
    {
      "cell_type": "code",
      "metadata": {
        "colab": {
          "base_uri": "https://localhost:8080/"
        },
        "id": "646a872c",
        "outputId": "db16eb1e-ef7d-406d-bfcd-c53c8d850e13"
      },
      "source": [
        "# Implement the MLP model in Q2.2\n",
        "\n",
        "Q2_2_mlp_model = keras.Sequential(\n",
        "    [\n",
        "        layers.Input((32,32,3)),               \n",
        "        layers.Flatten(),                      \n",
        "        layers.Dense(256, activation='relu'),\n",
        "        layers.Dense(10, activation='softmax')\n",
        "    ]\n",
        ")\n",
        "\n",
        "Q2_2_mlp_model.summary()"
      ],
      "id": "646a872c",
      "execution_count": null,
      "outputs": [
        {
          "output_type": "stream",
          "name": "stdout",
          "text": [
            "Model: \"sequential\"\n",
            "_________________________________________________________________\n",
            "Layer (type)                 Output Shape              Param #   \n",
            "=================================================================\n",
            "flatten_1 (Flatten)          (None, 3072)              0         \n",
            "_________________________________________________________________\n",
            "dense_2 (Dense)              (None, 256)               786688    \n",
            "_________________________________________________________________\n",
            "dense_3 (Dense)              (None, 10)                2570      \n",
            "=================================================================\n",
            "Total params: 789,258\n",
            "Trainable params: 789,258\n",
            "Non-trainable params: 0\n",
            "_________________________________________________________________\n"
          ]
        }
      ]
    },
    {
      "cell_type": "code",
      "metadata": {
        "colab": {
          "base_uri": "https://localhost:8080/"
        },
        "id": "m49npwOlFvX3",
        "outputId": "43480821-f9b9-401a-a05a-a21ef339707a"
      },
      "source": [
        "# Same as the CNN in Q2.1, Use “adam” as the optimization algorithm \n",
        "# (set learning rate to 0.001, and leave other hyperparameters of Adam fixed at the default for the library you choose to use)\n",
        "Q2_2_mlp_model.compile (tf.optimizers.Adam(learning_rate=0.001), loss=tf.keras.losses.SparseCategoricalCrossentropy(from_logits=False), metrics=['accuracy'])\n",
        "\n",
        "# Same as the CNN in Q2.1, Set batch size to 32 and epoch to 20\n",
        "Q2_2_model = Q2_2_mlp_model.fit(train_images_normalized, train_labels_sub, epochs=20, batch_size=32, \n",
        "                      validation_data=(test_images_normalized, test_labels_sub))"
      ],
      "id": "m49npwOlFvX3",
      "execution_count": null,
      "outputs": [
        {
          "output_type": "stream",
          "name": "stdout",
          "text": [
            "Epoch 1/20\n",
            "8/8 [==============================] - 0s 26ms/step - loss: 3.5036 - accuracy: 0.1000 - val_loss: 3.1778 - val_accuracy: 0.1000\n",
            "Epoch 2/20\n",
            "8/8 [==============================] - 0s 9ms/step - loss: 2.7844 - accuracy: 0.1520 - val_loss: 2.4183 - val_accuracy: 0.1800\n",
            "Epoch 3/20\n",
            "8/8 [==============================] - 0s 9ms/step - loss: 2.2415 - accuracy: 0.2240 - val_loss: 2.1579 - val_accuracy: 0.2550\n",
            "Epoch 4/20\n",
            "8/8 [==============================] - 0s 9ms/step - loss: 2.1006 - accuracy: 0.2280 - val_loss: 2.1608 - val_accuracy: 0.2000\n",
            "Epoch 5/20\n",
            "8/8 [==============================] - 0s 11ms/step - loss: 2.0175 - accuracy: 0.2680 - val_loss: 2.1053 - val_accuracy: 0.2050\n",
            "Epoch 6/20\n",
            "8/8 [==============================] - 0s 9ms/step - loss: 1.9298 - accuracy: 0.3000 - val_loss: 2.1544 - val_accuracy: 0.2250\n",
            "Epoch 7/20\n",
            "8/8 [==============================] - 0s 10ms/step - loss: 1.8392 - accuracy: 0.3560 - val_loss: 2.0649 - val_accuracy: 0.2400\n",
            "Epoch 8/20\n",
            "8/8 [==============================] - 0s 10ms/step - loss: 1.7815 - accuracy: 0.3800 - val_loss: 2.2156 - val_accuracy: 0.2150\n",
            "Epoch 9/20\n",
            "8/8 [==============================] - 0s 11ms/step - loss: 1.8161 - accuracy: 0.3240 - val_loss: 2.0935 - val_accuracy: 0.2050\n",
            "Epoch 10/20\n",
            "8/8 [==============================] - 0s 9ms/step - loss: 1.7133 - accuracy: 0.4120 - val_loss: 2.0851 - val_accuracy: 0.2700\n",
            "Epoch 11/20\n",
            "8/8 [==============================] - 0s 9ms/step - loss: 1.6573 - accuracy: 0.4320 - val_loss: 2.0773 - val_accuracy: 0.2300\n",
            "Epoch 12/20\n",
            "8/8 [==============================] - 0s 9ms/step - loss: 1.6008 - accuracy: 0.4680 - val_loss: 2.0631 - val_accuracy: 0.2650\n",
            "Epoch 13/20\n",
            "8/8 [==============================] - 0s 8ms/step - loss: 1.6045 - accuracy: 0.4360 - val_loss: 2.0647 - val_accuracy: 0.2550\n",
            "Epoch 14/20\n",
            "8/8 [==============================] - 0s 9ms/step - loss: 1.4958 - accuracy: 0.5280 - val_loss: 2.0723 - val_accuracy: 0.2550\n",
            "Epoch 15/20\n",
            "8/8 [==============================] - 0s 9ms/step - loss: 1.4425 - accuracy: 0.5280 - val_loss: 2.0562 - val_accuracy: 0.2550\n",
            "Epoch 16/20\n",
            "8/8 [==============================] - 0s 9ms/step - loss: 1.4087 - accuracy: 0.5440 - val_loss: 2.0591 - val_accuracy: 0.2550\n",
            "Epoch 17/20\n",
            "8/8 [==============================] - 0s 9ms/step - loss: 1.4190 - accuracy: 0.5280 - val_loss: 2.1053 - val_accuracy: 0.2200\n",
            "Epoch 18/20\n",
            "8/8 [==============================] - 0s 8ms/step - loss: 1.3710 - accuracy: 0.5920 - val_loss: 2.0557 - val_accuracy: 0.2450\n",
            "Epoch 19/20\n",
            "8/8 [==============================] - 0s 9ms/step - loss: 1.2855 - accuracy: 0.6320 - val_loss: 2.1723 - val_accuracy: 0.2050\n",
            "Epoch 20/20\n",
            "8/8 [==============================] - 0s 9ms/step - loss: 1.2828 - accuracy: 0.6080 - val_loss: 2.1018 - val_accuracy: 0.2450\n"
          ]
        }
      ]
    },
    {
      "cell_type": "code",
      "metadata": {
        "colab": {
          "base_uri": "https://localhost:8080/",
          "height": 295
        },
        "id": "7ZwuyFPtG6Zp",
        "outputId": "111e4c4e-02bc-435a-a841-02182c8bb733"
      },
      "source": [
        "# Plot the training accuracy and testing accuracy under different epochs\n",
        "\n",
        "plt.plot(Q2_2_model.history['accuracy'], label='Training Accuracy')\n",
        "plt.plot(Q2_2_model.history['val_accuracy'], label='Testing Accuracy')\n",
        "plt.ylabel('Accuracy')\n",
        "plt.xlabel('Epochs')\n",
        "plt.title('Training & Testing Accuracy under Different Epochs')\n",
        "plt.legend()\n",
        "plt.show()"
      ],
      "id": "7ZwuyFPtG6Zp",
      "execution_count": null,
      "outputs": [
        {
          "output_type": "display_data",
          "data": {
            "image/png": "[encoded data removed]",
            "text/plain": [
              "<Figure size 432x288 with 1 Axes>"
            ]
          },
          "metadata": {
            "needs_background": "light"
          }
        }
      ]
    },
    {
      "cell_type": "code",
      "metadata": {
        "colab": {
          "base_uri": "https://localhost:8080/",
          "height": 295
        },
        "id": "FCPnKD7gHDSP",
        "outputId": "b07d7e7f-23fb-4216-8d25-2af31de63f0e"
      },
      "source": [
        "# Plot the training loss and testing loss under different epochs\n",
        "\n",
        "plt.plot(Q2_2_model.history['loss'], label='Training Loss')\n",
        "plt.plot(Q2_2_model.history['val_loss'], label='Testing Loss')\n",
        "plt.ylabel('Loss')\n",
        "plt.xlabel('Epochs')\n",
        "plt.title('Training & Testing Loss under Different Epochs')\n",
        "plt.legend()\n",
        "plt.show()"
      ],
      "id": "FCPnKD7gHDSP",
      "execution_count": null,
      "outputs": [
        {
          "output_type": "display_data",
          "data": {
            "image/png": "[encoded data removed]",
            "text/plain": [
              "<Figure size 432x288 with 1 Axes>"
            ]
          },
          "metadata": {
            "needs_background": "light"
          }
        }
      ]
    },
    {
      "cell_type": "markdown",
      "metadata": {
        "id": "e4b50d23"
      },
      "source": [
        "3. To improve the performance of the above MLP, one strategy is to use features of the images as the input of the MLP to improve the performance.  How will you extract the features from the raw images?  Implement the feature extraction and classification on the given dataset, and plot the training accuracy and testing accuracy under different epochs. Please see the assignment specificication for more details of the training settings."
      ],
      "id": "e4b50d23"
    },
    {
      "cell_type": "code",
      "metadata": {
        "id": "d61ca653"
      },
      "source": [
        "import cv2"
      ],
      "id": "d61ca653",
      "execution_count": null,
      "outputs": []
    },
    {
      "cell_type": "code",
      "metadata": {
        "id": "ewCy0JY7QZqy"
      },
      "source": [
        "win_size = (8,8)\n",
        "block_size = (4,4)\n",
        "block_stride = (1,1)\n",
        "cell_size = (2,2)\n",
        "nbins = 8\n",
        "win_stride = (4,4)\n",
        "padding = (1,1)\n",
        "\n",
        "Q2_3_hog_feature_extraction = cv2.HOGDescriptor(win_size,block_size,block_stride,cell_size,nbins)\n",
        "\n",
        "extracted_train_image_features = []\n",
        "for each_train_image_original in train_images_sub:\n",
        "  # Transform all the images into 8 bit unsigned integer\n",
        "    each_train_image_original = each_train_image_original.astype(np.uint8)\n",
        "  # Greyscale all the images\n",
        "    each_train_image_grey = cv2.cvtColor(each_train_image_original, cv2.COLOR_RGB2GRAY)\n",
        "  # Apply Hog Computation\n",
        "    each_train_image_hogged = Q2_3_hog_feature_extraction.compute(each_train_image_grey, win_stride, padding).reshape((-1,))\n",
        "  # Gather Hogged Imgages together \n",
        "    extracted_train_image_features.append(each_train_image_hogged)\n",
        "    \n",
        "extracted_test_image_features = []\n",
        "for each_test_image_original in test_images_sub:\n",
        "  # Transform all the images into 8 bit unsigned integer\n",
        "    each_test_image_original = each_test_image_original.astype(np.uint8)\n",
        "  # Greyscale all the images\n",
        "    each_test_image_grey = cv2.cvtColor(each_test_image_original, cv2.COLOR_RGB2GRAY)\n",
        "  # Apply Hog Computation\n",
        "    each_test_image_hogged = Q2_3_hog_feature_extraction.compute(each_test_image_grey, win_stride, padding).reshape((-1,))\n",
        "  # Gather Hogged Imgages together \n",
        "    extracted_test_image_features.append(each_test_image_hogged)"
      ],
      "id": "ewCy0JY7QZqy",
      "execution_count": null,
      "outputs": []
    },
    {
      "cell_type": "code",
      "metadata": {
        "colab": {
          "base_uri": "https://localhost:8080/"
        },
        "id": "uqqQd7rqQexu",
        "outputId": "6c7720e3-c544-4876-9805-fee4e45d8580"
      },
      "source": [
        "# Check the Dimension/Type of the Inputs\n",
        "\n",
        "# Transform from list to NP Array Type\n",
        "train_array = np.array(extracted_train_image_features)\n",
        "# Transform from list to NP Array Type\n",
        "test_array = np.array(extracted_test_image_features)\n",
        "\n",
        "# Check the Dimension Size of the Inputs\n",
        "print(\"train_array shape:\", train_array.shape)\n",
        "print(\"train_images shape:\", train_images_sub.shape)\n",
        "print(\"test_array shape:\", test_array.shape)\n",
        "print(\"test_images shape:\", test_images_sub.shape)"
      ],
      "id": "uqqQd7rqQexu",
      "execution_count": null,
      "outputs": [
        {
          "output_type": "stream",
          "name": "stdout",
          "text": [
            "train_array shape: (250, 39200)\n",
            "train_images shape: (250, 32, 32, 3)\n",
            "test_array shape: (200, 39200)\n",
            "test_images shape: (200, 32, 32, 3)\n"
          ]
        }
      ]
    },
    {
      "cell_type": "code",
      "metadata": {
        "colab": {
          "base_uri": "https://localhost:8080/"
        },
        "id": "3zAdL6p6QfnW",
        "outputId": "e26bc616-f3e0-4276-be87-c09fbee6bd4d"
      },
      "source": [
        "# Apply the mlp in Q2.2 to the extracted feature training set\n",
        "Q2_3_mlp_model = keras.Sequential(\n",
        "    [\n",
        "        layers.Input((39200)),\n",
        "        layers.Dense(256, activation='relu'),\n",
        "        layers.Dense(10, activation='softmax')\n",
        "    ]\n",
        ")\n",
        "\n",
        "Q2_3_mlp_model.summary()"
      ],
      "id": "3zAdL6p6QfnW",
      "execution_count": null,
      "outputs": [
        {
          "output_type": "stream",
          "name": "stdout",
          "text": [
            "Model: \"sequential_3\"\n",
            "_________________________________________________________________\n",
            "Layer (type)                 Output Shape              Param #   \n",
            "=================================================================\n",
            "dense_8 (Dense)              (None, 256)               10035456  \n",
            "_________________________________________________________________\n",
            "dense_9 (Dense)              (None, 10)                2570      \n",
            "=================================================================\n",
            "Total params: 10,038,026\n",
            "Trainable params: 10,038,026\n",
            "Non-trainable params: 0\n",
            "_________________________________________________________________\n"
          ]
        }
      ]
    },
    {
      "cell_type": "code",
      "metadata": {
        "colab": {
          "base_uri": "https://localhost:8080/"
        },
        "id": "FHR6wM_8QkiC",
        "outputId": "80b7c135-c4f4-409e-e126-c366414c012d"
      },
      "source": [
        "# Same as the CNN in Q2.1, Use “adam” as the optimization algorithm \n",
        "# (set learning rate to 0.001, and leave other hyperparameters of Adam fixed at the default for the library you choose to use)\n",
        "Q2_3_mlp_model.compile (tf.optimizers.Adam(lr=0.001), loss=tf.keras.losses.SparseCategoricalCrossentropy(from_logits=False), metrics=['accuracy'])\n",
        "\n",
        "# Same as the CNN in Q2.1, Set batch size to 32 and epoch to 20\n",
        "Q2_3_model = Q2_3_mlp_model.fit(train_array, train_labels_sub, epochs=20, batch_size=32, \n",
        "                      validation_data=(test_array, test_labels_sub))"
      ],
      "id": "FHR6wM_8QkiC",
      "execution_count": null,
      "outputs": [
        {
          "output_type": "stream",
          "name": "stderr",
          "text": [
            "/usr/local/lib/python3.7/dist-packages/keras/optimizer_v2/optimizer_v2.py:356: UserWarning: The `lr` argument is deprecated, use `learning_rate` instead.\n",
            "  \"The `lr` argument is deprecated, use `learning_rate` instead.\")\n"
          ]
        },
        {
          "output_type": "stream",
          "name": "stdout",
          "text": [
            "Epoch 1/20\n",
            "8/8 [==============================] - 1s 100ms/step - loss: 6.7125 - accuracy: 0.0920 - val_loss: 4.3813 - val_accuracy: 0.2100\n",
            "Epoch 2/20\n",
            "8/8 [==============================] - 1s 81ms/step - loss: 3.3535 - accuracy: 0.3400 - val_loss: 3.2185 - val_accuracy: 0.1550\n",
            "Epoch 3/20\n",
            "8/8 [==============================] - 1s 81ms/step - loss: 1.3302 - accuracy: 0.5680 - val_loss: 2.1360 - val_accuracy: 0.2900\n",
            "Epoch 4/20\n",
            "8/8 [==============================] - 1s 84ms/step - loss: 0.6138 - accuracy: 0.8480 - val_loss: 2.0871 - val_accuracy: 0.2600\n",
            "Epoch 5/20\n",
            "8/8 [==============================] - 1s 81ms/step - loss: 0.3423 - accuracy: 0.9600 - val_loss: 2.0340 - val_accuracy: 0.3050\n",
            "Epoch 6/20\n",
            "8/8 [==============================] - 1s 84ms/step - loss: 0.1804 - accuracy: 0.9840 - val_loss: 2.2508 - val_accuracy: 0.3050\n",
            "Epoch 7/20\n",
            "8/8 [==============================] - 1s 83ms/step - loss: 0.0934 - accuracy: 1.0000 - val_loss: 2.0959 - val_accuracy: 0.3250\n",
            "Epoch 8/20\n",
            "8/8 [==============================] - 1s 80ms/step - loss: 0.0599 - accuracy: 1.0000 - val_loss: 2.1826 - val_accuracy: 0.3300\n",
            "Epoch 9/20\n",
            "8/8 [==============================] - 1s 83ms/step - loss: 0.0387 - accuracy: 1.0000 - val_loss: 2.1215 - val_accuracy: 0.3200\n",
            "Epoch 10/20\n",
            "8/8 [==============================] - 1s 81ms/step - loss: 0.0258 - accuracy: 1.0000 - val_loss: 2.1823 - val_accuracy: 0.3050\n",
            "Epoch 11/20\n",
            "8/8 [==============================] - 1s 80ms/step - loss: 0.0201 - accuracy: 1.0000 - val_loss: 2.1532 - val_accuracy: 0.3150\n",
            "Epoch 12/20\n",
            "8/8 [==============================] - 1s 81ms/step - loss: 0.0170 - accuracy: 1.0000 - val_loss: 2.1748 - val_accuracy: 0.3200\n",
            "Epoch 13/20\n",
            "8/8 [==============================] - 1s 80ms/step - loss: 0.0135 - accuracy: 1.0000 - val_loss: 2.1904 - val_accuracy: 0.3250\n",
            "Epoch 14/20\n",
            "8/8 [==============================] - 1s 85ms/step - loss: 0.0116 - accuracy: 1.0000 - val_loss: 2.1768 - val_accuracy: 0.3350\n",
            "Epoch 15/20\n",
            "8/8 [==============================] - 1s 82ms/step - loss: 0.0100 - accuracy: 1.0000 - val_loss: 2.1951 - val_accuracy: 0.3100\n",
            "Epoch 16/20\n",
            "8/8 [==============================] - 1s 82ms/step - loss: 0.0088 - accuracy: 1.0000 - val_loss: 2.2054 - val_accuracy: 0.3150\n",
            "Epoch 17/20\n",
            "8/8 [==============================] - 1s 80ms/step - loss: 0.0080 - accuracy: 1.0000 - val_loss: 2.2069 - val_accuracy: 0.3300\n",
            "Epoch 18/20\n",
            "8/8 [==============================] - 1s 81ms/step - loss: 0.0070 - accuracy: 1.0000 - val_loss: 2.2174 - val_accuracy: 0.3250\n",
            "Epoch 19/20\n",
            "8/8 [==============================] - 1s 85ms/step - loss: 0.0063 - accuracy: 1.0000 - val_loss: 2.2348 - val_accuracy: 0.3150\n",
            "Epoch 20/20\n",
            "8/8 [==============================] - 1s 81ms/step - loss: 0.0056 - accuracy: 1.0000 - val_loss: 2.2456 - val_accuracy: 0.3250\n"
          ]
        }
      ]
    },
    {
      "cell_type": "code",
      "metadata": {
        "colab": {
          "base_uri": "https://localhost:8080/",
          "height": 295
        },
        "id": "u4J_kyvRQn5I",
        "outputId": "8eb9448b-0ca6-441e-dcec-2ec67c533c05"
      },
      "source": [
        "# Plot the training accuracy and testing accuracy under different epochs\n",
        "plt.plot(Q2_3_model.history['accuracy'], label='Training Accuracy')\n",
        "plt.plot(Q2_3_model.history['val_accuracy'], label='Testing Accuracy')\n",
        "plt.ylabel('Accuracy')\n",
        "plt.xlabel('Epochs')\n",
        "plt.title('Training & Testing Accuracy under Different Epochs')\n",
        "plt.legend()\n",
        "plt.show()"
      ],
      "id": "u4J_kyvRQn5I",
      "execution_count": null,
      "outputs": [
        {
          "output_type": "display_data",
          "data": {
            "image/png": "[encoded data removed]",
            "text/plain": [
              "<Figure size 432x288 with 1 Axes>"
            ]
          },
          "metadata": {
            "needs_background": "light"
          }
        }
      ]
    },
    {
      "cell_type": "code",
      "metadata": {
        "colab": {
          "base_uri": "https://localhost:8080/",
          "height": 295
        },
        "id": "X9LCcXSEQsMH",
        "outputId": "4a0ae70e-d52b-4f60-c20a-ec515daf4684"
      },
      "source": [
        "# Plot the training loss and testing loss under different epochs\n",
        "plt.plot(Q2_3_model.history['loss'], label='Training Loss')\n",
        "plt.plot(Q2_3_model.history['val_loss'], label='Testing Loss')\n",
        "plt.ylabel('Loss')\n",
        "plt.xlabel('Epochs')\n",
        "plt.title('Training & Testing Loss under Different Epochs')\n",
        "plt.legend()\n",
        "plt.show()"
      ],
      "id": "X9LCcXSEQsMH",
      "execution_count": null,
      "outputs": [
        {
          "output_type": "display_data",
          "data": {
            "image/png": "[encoded data removed]",
            "text/plain": [
              "<Figure size 432x288 with 1 Axes>"
            ]
          },
          "metadata": {
            "needs_background": "light"
          }
        }
      ]
    },
    {
      "cell_type": "code",
      "metadata": {
        "colab": {
          "base_uri": "https://localhost:8080/"
        },
        "id": "OIlxu6WOQvov",
        "outputId": "65f318c6-957b-4a82-962d-0f9c58e3881c"
      },
      "source": [
        "max(Q2_3_model.history['val_accuracy'])"
      ],
      "id": "OIlxu6WOQvov",
      "execution_count": null,
      "outputs": [
        {
          "output_type": "execute_result",
          "data": {
            "text/plain": [
              "0.33500000834465027"
            ]
          },
          "metadata": {},
          "execution_count": 31
        }
      ]
    }
  ]
}